{
  "nbformat": 4,
  "nbformat_minor": 0,
  "metadata": {
    "colab": {
      "provenance": [],
      "authorship_tag": "ABX9TyPO38fELOTwkpI2TbKdtj4/",
      "include_colab_link": true
    },
    "kernelspec": {
      "name": "python3",
      "display_name": "Python 3"
    },
    "language_info": {
      "name": "python"
    }
  },
  "cells": [
    {
      "cell_type": "markdown",
      "metadata": {
        "id": "view-in-github",
        "colab_type": "text"
      },
      "source": [
        "<a href=\"https://colab.research.google.com/github/Mallesh4238/CRT-Programs/blob/main/CRT_programs_python.ipynb\" target=\"_parent\"><img src=\"https://colab.research.google.com/assets/colab-badge.svg\" alt=\"Open In Colab\"/></a>"
      ]
    },
    {
      "cell_type": "markdown",
      "source": [
        "**DAY:3**"
      ],
      "metadata": {
        "id": "EUc7FQxojp2E"
      }
    },
    {
      "cell_type": "code",
      "source": [
        "n = int(input(\"Enter a number: \"))\n",
        "sum = 0\n",
        "temp = n\n",
        "order = len(str(n))\n",
        "\n",
        "while temp > 0:\n",
        "    digit = temp % 10\n",
        "    sum += digit ** order\n",
        "    temp //= 10\n",
        "\n",
        "if n == sum:\n",
        "    print(f\"{n} is an Armstrong number\")\n",
        "else:\n",
        "    print(f\"{n} is not an Armstrong number\")"
      ],
      "metadata": {
        "id": "3etyLQQ3jR4r",
        "colab": {
          "base_uri": "https://localhost:8080/"
        },
        "outputId": "b30599a5-768e-4e5e-9413-bb2edbcb608d"
      },
      "execution_count": null,
      "outputs": [
        {
          "output_type": "stream",
          "name": "stdout",
          "text": [
            "Enter a number: 153\n",
            "153 is an Armstrong number\n"
          ]
        }
      ]
    },
    {
      "cell_type": "markdown",
      "source": [
        "**DAY:4**\n",
        "\n",
        "\n"
      ],
      "metadata": {
        "id": "7c8zZnPUjT5Y"
      }
    },
    {
      "cell_type": "code",
      "source": [
        "#this is my approach\n",
        "n = int(input())\n",
        "for i in range(1,n+1):\n",
        "  print(\"*\"*n)"
      ],
      "metadata": {
        "id": "jqrbdUure61r",
        "colab": {
          "base_uri": "https://localhost:8080/"
        },
        "outputId": "fdc52bfa-759d-4a78-9715-aefebebd6fc8"
      },
      "execution_count": null,
      "outputs": [
        {
          "output_type": "stream",
          "name": "stdout",
          "text": [
            "7\n",
            "*******\n",
            "*******\n",
            "*******\n",
            "*******\n",
            "*******\n",
            "*******\n",
            "*******\n"
          ]
        }
      ]
    },
    {
      "cell_type": "code",
      "execution_count": null,
      "metadata": {
        "colab": {
          "base_uri": "https://localhost:8080/"
        },
        "id": "H3W_WznAhF2g",
        "outputId": "7f8b1afd-393b-45eb-fef9-aeb1db8d3246"
      },
      "outputs": [
        {
          "output_type": "stream",
          "name": "stdout",
          "text": [
            "7\n",
            "7\n",
            "*******\n",
            "*******\n",
            "*******\n",
            "*******\n",
            "*******\n",
            "*******\n",
            "*******\n"
          ]
        }
      ],
      "source": [
        "length = int(input())\n",
        "breadth = int(input())\n",
        "for i in range(1,length+1):\n",
        "  for j in range(1,breadth+1):\n",
        "    print(\"*\",end=\"\")\n",
        "  print()"
      ]
    },
    {
      "cell_type": "code",
      "source": [
        "#this is my approach\n",
        "n = int(input())\n",
        "for i in range(1,n+1):\n",
        "  print(\"*\"*i)"
      ],
      "metadata": {
        "colab": {
          "base_uri": "https://localhost:8080/"
        },
        "id": "M3X9a_l6g0_-",
        "outputId": "736c9be5-e9e1-446a-a809-269fb6e63823"
      },
      "execution_count": null,
      "outputs": [
        {
          "output_type": "stream",
          "name": "stdout",
          "text": [
            "7\n",
            "*\n",
            "**\n",
            "***\n",
            "****\n",
            "*****\n",
            "******\n",
            "*******\n"
          ]
        }
      ]
    },
    {
      "cell_type": "code",
      "source": [
        "n= int(input())\n",
        "for i in range(1,n+1):\n",
        "  for j in range(1,i+1):\n",
        "    print(\"*\",end=\"\")\n",
        "  print()"
      ],
      "metadata": {
        "colab": {
          "base_uri": "https://localhost:8080/"
        },
        "id": "vBCE7zTpilYh",
        "outputId": "7d312029-4172-48c4-c49b-b33e0290c9a6"
      },
      "execution_count": null,
      "outputs": [
        {
          "output_type": "stream",
          "name": "stdout",
          "text": [
            "7\n",
            "*\n",
            "**\n",
            "***\n",
            "****\n",
            "*****\n",
            "******\n",
            "*******\n"
          ]
        }
      ]
    },
    {
      "cell_type": "code",
      "source": [
        "# i tried this code\n",
        "n= int(input())\n",
        "for i in range(1,n+1):\n",
        "  for j in range(1,i+1):\n",
        "    print(j,end=\"\")\n",
        "  print()"
      ],
      "metadata": {
        "colab": {
          "base_uri": "https://localhost:8080/"
        },
        "id": "mvzWR5jPqubF",
        "outputId": "2d01e8d1-88d3-4348-b3c9-bcf8a22880c1"
      },
      "execution_count": null,
      "outputs": [
        {
          "output_type": "stream",
          "name": "stdout",
          "text": [
            "7\n",
            "1\n",
            "12\n",
            "123\n",
            "1234\n",
            "12345\n",
            "123456\n",
            "1234567\n"
          ]
        }
      ]
    },
    {
      "cell_type": "code",
      "source": [
        "n = int(input())\n",
        "for i in range(1,n+1):\n",
        "  k=n\n",
        "  for j in range(1,i+1):\n",
        "    print(k,end=\"\")\n",
        "    k=k-1\n",
        "  print()"
      ],
      "metadata": {
        "colab": {
          "base_uri": "https://localhost:8080/"
        },
        "id": "r0Va-PYSoSV8",
        "outputId": "0a8abaea-812e-4f48-ae6a-be13170743b2"
      },
      "execution_count": null,
      "outputs": [
        {
          "output_type": "stream",
          "name": "stdout",
          "text": [
            "7\n",
            "7\n",
            "76\n",
            "765\n",
            "7654\n",
            "76543\n",
            "765432\n",
            "7654321\n"
          ]
        }
      ]
    },
    {
      "cell_type": "code",
      "source": [
        "for i in range(1,256):\n",
        "  print(i,\"-> \",chr(i))"
      ],
      "metadata": {
        "colab": {
          "base_uri": "https://localhost:8080/"
        },
        "id": "wFbK07FErVWK",
        "outputId": "3f224723-c1b1-402c-916d-ac84f3b8812b"
      },
      "execution_count": null,
      "outputs": [
        {
          "output_type": "stream",
          "name": "stdout",
          "text": [
            "1 ->  \u0001\n",
            "2 ->  \u0002\n",
            "3 ->  \u0003\n",
            "4 ->  \u0004\n",
            "5 ->  \u0005\n",
            "6 ->  \u0006\n",
            "7 ->  \u0007\n",
            "8 ->  \b\n",
            "9 ->  \t\n",
            "10 ->  \n",
            "\n",
            "11 ->  \u000b\n",
            "12 ->  \f\n",
            "13 ->  \r\n",
            "14 ->  \u000e\n",
            "15 ->  \u000f\n",
            "16 ->  \u0010\n",
            "17 ->  \u0011\n",
            "18 ->  \u0012\n",
            "19 ->  \u0013\n",
            "20 ->  \u0014\n",
            "21 ->  \u0015\n",
            "22 ->  \u0016\n",
            "23 ->  \u0017\n",
            "24 ->  \u0018\n",
            "25 ->  \u0019\n",
            "26 ->  \u001a\n",
            "27 ->  \u001b\n",
            "28 ->  \u001c\n",
            "29 ->  \u001d\n",
            "30 ->  \u001e\n",
            "31 ->  \u001f\n",
            "32 ->   \n",
            "33 ->  !\n",
            "34 ->  \"\n",
            "35 ->  #\n",
            "36 ->  $\n",
            "37 ->  %\n",
            "38 ->  &\n",
            "39 ->  '\n",
            "40 ->  (\n",
            "41 ->  )\n",
            "42 ->  *\n",
            "43 ->  +\n",
            "44 ->  ,\n",
            "45 ->  -\n",
            "46 ->  .\n",
            "47 ->  /\n",
            "48 ->  0\n",
            "49 ->  1\n",
            "50 ->  2\n",
            "51 ->  3\n",
            "52 ->  4\n",
            "53 ->  5\n",
            "54 ->  6\n",
            "55 ->  7\n",
            "56 ->  8\n",
            "57 ->  9\n",
            "58 ->  :\n",
            "59 ->  ;\n",
            "60 ->  <\n",
            "61 ->  =\n",
            "62 ->  >\n",
            "63 ->  ?\n",
            "64 ->  @\n",
            "65 ->  A\n",
            "66 ->  B\n",
            "67 ->  C\n",
            "68 ->  D\n",
            "69 ->  E\n",
            "70 ->  F\n",
            "71 ->  G\n",
            "72 ->  H\n",
            "73 ->  I\n",
            "74 ->  J\n",
            "75 ->  K\n",
            "76 ->  L\n",
            "77 ->  M\n",
            "78 ->  N\n",
            "79 ->  O\n",
            "80 ->  P\n",
            "81 ->  Q\n",
            "82 ->  R\n",
            "83 ->  S\n",
            "84 ->  T\n",
            "85 ->  U\n",
            "86 ->  V\n",
            "87 ->  W\n",
            "88 ->  X\n",
            "89 ->  Y\n",
            "90 ->  Z\n",
            "91 ->  [\n",
            "92 ->  \\\n",
            "93 ->  ]\n",
            "94 ->  ^\n",
            "95 ->  _\n",
            "96 ->  `\n",
            "97 ->  a\n",
            "98 ->  b\n",
            "99 ->  c\n",
            "100 ->  d\n",
            "101 ->  e\n",
            "102 ->  f\n",
            "103 ->  g\n",
            "104 ->  h\n",
            "105 ->  i\n",
            "106 ->  j\n",
            "107 ->  k\n",
            "108 ->  l\n",
            "109 ->  m\n",
            "110 ->  n\n",
            "111 ->  o\n",
            "112 ->  p\n",
            "113 ->  q\n",
            "114 ->  r\n",
            "115 ->  s\n",
            "116 ->  t\n",
            "117 ->  u\n",
            "118 ->  v\n",
            "119 ->  w\n",
            "120 ->  x\n",
            "121 ->  y\n",
            "122 ->  z\n",
            "123 ->  {\n",
            "124 ->  |\n",
            "125 ->  }\n",
            "126 ->  ~\n",
            "127 ->  \n",
            "128 ->  \n",
            "129 ->  \n",
            "130 ->  \n",
            "131 ->  \n",
            "132 ->  \n",
            "133 ->  \n",
            "134 ->  \n",
            "135 ->  \n",
            "136 ->  \n",
            "137 ->  \n",
            "138 ->  \n",
            "139 ->  \n",
            "140 ->  \n",
            "141 ->  \n",
            "142 ->  \n",
            "143 ->  \n",
            "144 ->  \n",
            "145 ->  \n",
            "146 ->  \n",
            "147 ->  \n",
            "148 ->  \n",
            "149 ->  \n",
            "150 ->  \n",
            "151 ->  \n",
            "152 ->  \n",
            "153 ->  \n",
            "154 ->  \n",
            "155 ->  \n",
            "156 ->  \n",
            "157 ->  \n",
            "158 ->  \n",
            "159 ->  \n",
            "160 ->   \n",
            "161 ->  ¡\n",
            "162 ->  ¢\n",
            "163 ->  £\n",
            "164 ->  ¤\n",
            "165 ->  ¥\n",
            "166 ->  ¦\n",
            "167 ->  §\n",
            "168 ->  ¨\n",
            "169 ->  ©\n",
            "170 ->  ª\n",
            "171 ->  «\n",
            "172 ->  ¬\n",
            "173 ->  ­\n",
            "174 ->  ®\n",
            "175 ->  ¯\n",
            "176 ->  °\n",
            "177 ->  ±\n",
            "178 ->  ²\n",
            "179 ->  ³\n",
            "180 ->  ´\n",
            "181 ->  µ\n",
            "182 ->  ¶\n",
            "183 ->  ·\n",
            "184 ->  ¸\n",
            "185 ->  ¹\n",
            "186 ->  º\n",
            "187 ->  »\n",
            "188 ->  ¼\n",
            "189 ->  ½\n",
            "190 ->  ¾\n",
            "191 ->  ¿\n",
            "192 ->  À\n",
            "193 ->  Á\n",
            "194 ->  Â\n",
            "195 ->  Ã\n",
            "196 ->  Ä\n",
            "197 ->  Å\n",
            "198 ->  Æ\n",
            "199 ->  Ç\n",
            "200 ->  È\n",
            "201 ->  É\n",
            "202 ->  Ê\n",
            "203 ->  Ë\n",
            "204 ->  Ì\n",
            "205 ->  Í\n",
            "206 ->  Î\n",
            "207 ->  Ï\n",
            "208 ->  Ð\n",
            "209 ->  Ñ\n",
            "210 ->  Ò\n",
            "211 ->  Ó\n",
            "212 ->  Ô\n",
            "213 ->  Õ\n",
            "214 ->  Ö\n",
            "215 ->  ×\n",
            "216 ->  Ø\n",
            "217 ->  Ù\n",
            "218 ->  Ú\n",
            "219 ->  Û\n",
            "220 ->  Ü\n",
            "221 ->  Ý\n",
            "222 ->  Þ\n",
            "223 ->  ß\n",
            "224 ->  à\n",
            "225 ->  á\n",
            "226 ->  â\n",
            "227 ->  ã\n",
            "228 ->  ä\n",
            "229 ->  å\n",
            "230 ->  æ\n",
            "231 ->  ç\n",
            "232 ->  è\n",
            "233 ->  é\n",
            "234 ->  ê\n",
            "235 ->  ë\n",
            "236 ->  ì\n",
            "237 ->  í\n",
            "238 ->  î\n",
            "239 ->  ï\n",
            "240 ->  ð\n",
            "241 ->  ñ\n",
            "242 ->  ò\n",
            "243 ->  ó\n",
            "244 ->  ô\n",
            "245 ->  õ\n",
            "246 ->  ö\n",
            "247 ->  ÷\n",
            "248 ->  ø\n",
            "249 ->  ù\n",
            "250 ->  ú\n",
            "251 ->  û\n",
            "252 ->  ü\n",
            "253 ->  ý\n",
            "254 ->  þ\n",
            "255 ->  ÿ\n"
          ]
        }
      ]
    },
    {
      "cell_type": "code",
      "source": [
        "n = int(input())\n",
        "for i in range(1,n+1):\n",
        "  k='A'\n",
        "  for j in range(1,i+1):\n",
        "    print(k,end='')\n",
        "    k = ord(k)+1\n",
        "    k = chr(k)\n",
        "  print()"
      ],
      "metadata": {
        "colab": {
          "base_uri": "https://localhost:8080/"
        },
        "id": "iE3AN11D0OLa",
        "outputId": "38f8d8b4-e69a-4e2d-b756-3441b9527850"
      },
      "execution_count": null,
      "outputs": [
        {
          "output_type": "stream",
          "name": "stdout",
          "text": [
            "7\n",
            "A\n",
            "AB\n",
            "ABC\n",
            "ABCD\n",
            "ABCDE\n",
            "ABCDEF\n",
            "ABCDEFG\n"
          ]
        }
      ]
    },
    {
      "cell_type": "code",
      "source": [
        "n=int(input())\n",
        "for i in range(1,n+1):\n",
        "  for j in range(1,n-i+1):\n",
        "    print(\" \",end=\"\")\n",
        "  k='A'\n",
        "  for j in range(1,i+1):\n",
        "    print(k,end=\"\")\n",
        "    k= chr(ord(k)+1)\n",
        "  print()"
      ],
      "metadata": {
        "colab": {
          "base_uri": "https://localhost:8080/"
        },
        "id": "sVfF1PuM6xTQ",
        "outputId": "b639b1e8-9018-4472-d1d0-abf25164c4f0"
      },
      "execution_count": null,
      "outputs": [
        {
          "output_type": "stream",
          "name": "stdout",
          "text": [
            "7\n",
            "      A\n",
            "     AB\n",
            "    ABC\n",
            "   ABCD\n",
            "  ABCDE\n",
            " ABCDEF\n",
            "ABCDEFG\n"
          ]
        }
      ]
    },
    {
      "cell_type": "markdown",
      "source": [
        "**DAY:5**"
      ],
      "metadata": {
        "id": "hHpoAPANTBX4"
      }
    },
    {
      "cell_type": "code",
      "source": [
        "# WITHOUT PARAMETERS AND WITHOUT ARGUMENTS\n",
        "def f1(v):\n",
        "  print(v)\n",
        "  f2(v+1)\n",
        "def f2(v):\n",
        "  print(v)\n",
        "  f3(v+1)\n",
        "def f3(v):\n",
        "  print(v)\n",
        "  f4(v+1)\n",
        "def f4(v):\n",
        "  print(v)\n",
        "  f5(v+1)\n",
        "def f5(v):\n",
        "  print(v)\n",
        "f1(1)"
      ],
      "metadata": {
        "colab": {
          "base_uri": "https://localhost:8080/"
        },
        "id": "d4qGP6ajTQUu",
        "outputId": "45248610-8eac-486d-b672-932eda3a759b"
      },
      "execution_count": null,
      "outputs": [
        {
          "output_type": "stream",
          "name": "stdout",
          "text": [
            "1\n",
            "2\n",
            "3\n",
            "4\n",
            "5\n"
          ]
        }
      ]
    },
    {
      "cell_type": "code",
      "source": [
        "def f(v):\n",
        "  if v==6:\n",
        "    return\n",
        "  print(v)\n",
        "  f(v+1)\n",
        "f(1)"
      ],
      "metadata": {
        "colab": {
          "base_uri": "https://localhost:8080/"
        },
        "id": "tqHcsPwJd5yl",
        "outputId": "f26c17c2-b755-41c9-b2f5-4e3df10da62d"
      },
      "execution_count": null,
      "outputs": [
        {
          "output_type": "stream",
          "name": "stdout",
          "text": [
            "1\n",
            "2\n",
            "3\n",
            "4\n",
            "5\n"
          ]
        }
      ]
    },
    {
      "cell_type": "code",
      "source": [
        "def f(v):\n",
        "  if v==0:\n",
        "    return\n",
        "  print(v)\n",
        "  f(v-1)\n",
        "f(5)"
      ],
      "metadata": {
        "colab": {
          "base_uri": "https://localhost:8080/"
        },
        "id": "140ZMFP-f_D6",
        "outputId": "0ce34d6c-063e-438e-ba18-831ab62da696"
      },
      "execution_count": null,
      "outputs": [
        {
          "output_type": "stream",
          "name": "stdout",
          "text": [
            "5\n",
            "4\n",
            "3\n",
            "2\n",
            "1\n"
          ]
        }
      ]
    },
    {
      "cell_type": "code",
      "source": [
        "#if i give one also it prints reverse\n",
        "def f(v):\n",
        "  if v==6:\n",
        "    return\n",
        "  f(v+1)\n",
        "  print(v)\n",
        "f(1)"
      ],
      "metadata": {
        "colab": {
          "base_uri": "https://localhost:8080/"
        },
        "collapsed": true,
        "id": "AnKx456NhWsk",
        "outputId": "ba682a8b-90f6-4bc8-8f99-32a0f1c709ac"
      },
      "execution_count": null,
      "outputs": [
        {
          "output_type": "stream",
          "name": "stdout",
          "text": [
            "5\n",
            "4\n",
            "3\n",
            "2\n",
            "1\n"
          ]
        }
      ]
    },
    {
      "cell_type": "code",
      "source": [
        "def f(v,sum):\n",
        "  if v==6:\n",
        "    print(sum)\n",
        "    return\n",
        "  sum = sum+v\n",
        "  f(v+1,sum)\n",
        "f(1,0)"
      ],
      "metadata": {
        "colab": {
          "base_uri": "https://localhost:8080/"
        },
        "id": "iakIUp1OlHgx",
        "outputId": "e994cfce-dfe4-4e49-9884-614d390dde53"
      },
      "execution_count": null,
      "outputs": [
        {
          "output_type": "stream",
          "name": "stdout",
          "text": [
            "15\n"
          ]
        }
      ]
    },
    {
      "cell_type": "code",
      "source": [
        "#sum of natural numbers using recursion 1st approach\n",
        "def f(v,sum,n):\n",
        "  if v==n+1:\n",
        "    print(sum)\n",
        "    return\n",
        "  sum = sum+v\n",
        "  f(v+1,sum,n)\n",
        "n=int(input())\n",
        "f(1,0,n)"
      ],
      "metadata": {
        "colab": {
          "base_uri": "https://localhost:8080/"
        },
        "id": "SEDkASRmplhh",
        "outputId": "baa01362-d867-4124-d3da-11545eb4aa38"
      },
      "execution_count": null,
      "outputs": [
        {
          "output_type": "stream",
          "name": "stdout",
          "text": [
            "7\n",
            "28\n"
          ]
        }
      ]
    },
    {
      "cell_type": "code",
      "source": [
        "#sum of natural numbers using recursion 2nd approach\n",
        "def sum(v):\n",
        "  if v==5:\n",
        "    return 5\n",
        "  rem = sum(v+1)\n",
        "  return v+rem\n",
        "print(sum(1))"
      ],
      "metadata": {
        "colab": {
          "base_uri": "https://localhost:8080/"
        },
        "id": "zOZG8wTqqR2J",
        "outputId": "5c5033b7-f30d-4911-d0cb-261be083420a"
      },
      "execution_count": null,
      "outputs": [
        {
          "output_type": "stream",
          "name": "stdout",
          "text": [
            "15\n"
          ]
        }
      ]
    },
    {
      "cell_type": "markdown",
      "source": [
        "**DAY:6**"
      ],
      "metadata": {
        "id": "YnCRu8n4fADT"
      }
    },
    {
      "cell_type": "code",
      "source": [
        "'''Function syntax:\n",
        "def funName(parameters):\n",
        "    statement/return'''\n",
        "def add(a,b):\n",
        "  return a+b\n",
        "a=int(input())\n",
        "b=int(input())\n",
        "print(\"result function:\",add(a,b))\n",
        "\n",
        "\n",
        "'''Lambda syntax:\n",
        "funName = lambda parameters:return\n",
        "expressions/tasks'''\n",
        "add = lambda a,b:a+b\n",
        "a=int(input())\n",
        "b=int(input())\n",
        "print(\"result lambda:\",add(a,b))"
      ],
      "metadata": {
        "id": "FIY-eUxmy5Xf",
        "colab": {
          "base_uri": "https://localhost:8080/"
        },
        "outputId": "072927b8-39f2-4dda-eabc-102d022a6c24"
      },
      "execution_count": null,
      "outputs": [
        {
          "output_type": "stream",
          "name": "stdout",
          "text": [
            "7\n",
            "7\n",
            "result function: 14\n",
            "7\n",
            "7\n",
            "result lambda: 14\n"
          ]
        }
      ]
    },
    {
      "cell_type": "code",
      "source": [
        "x=10\n",
        "def num():\n",
        "    x=20\n",
        "    print(x)\n",
        "num()\n",
        "print(x)"
      ],
      "metadata": {
        "colab": {
          "base_uri": "https://localhost:8080/"
        },
        "id": "y2M7UuD-nU4D",
        "outputId": "d0ccb6a8-e4b0-4657-e0ee-6c8ccf35861a"
      },
      "execution_count": null,
      "outputs": [
        {
          "output_type": "stream",
          "name": "stdout",
          "text": [
            "20\n",
            "10\n"
          ]
        }
      ]
    },
    {
      "cell_type": "code",
      "source": [
        "x=10\n",
        "def num():\n",
        "    global x\n",
        "    x=20\n",
        "    print(x)\n",
        "num()\n",
        "print(x)"
      ],
      "metadata": {
        "colab": {
          "base_uri": "https://localhost:8080/"
        },
        "id": "-5Wl3gTKqSHE",
        "outputId": "e5ae281a-2a04-4584-ff8c-c55ca13dc799"
      },
      "execution_count": null,
      "outputs": [
        {
          "output_type": "stream",
          "name": "stdout",
          "text": [
            "20\n",
            "20\n"
          ]
        }
      ]
    },
    {
      "cell_type": "code",
      "source": [
        "def num():\n",
        "    global x\n",
        "    x=20\n",
        "    print(x)\n",
        "num()\n",
        "print(x)"
      ],
      "metadata": {
        "colab": {
          "base_uri": "https://localhost:8080/"
        },
        "id": "R3fSoeChqtsb",
        "outputId": "b0d2016a-58d8-4ba9-ddda-6637412f2b70"
      },
      "execution_count": null,
      "outputs": [
        {
          "output_type": "stream",
          "name": "stdout",
          "text": [
            "20\n",
            "20\n"
          ]
        }
      ]
    },
    {
      "cell_type": "code",
      "source": [
        "x=10\n",
        "def num():\n",
        "    x=20\n",
        "    print(x)\n",
        "    def inner():\n",
        "        x=15\n",
        "        print(x)\n",
        "    inner()\n",
        "num()\n",
        "print(x)"
      ],
      "metadata": {
        "colab": {
          "base_uri": "https://localhost:8080/"
        },
        "id": "lScnflpPsysl",
        "outputId": "b8196ebb-9b2d-4e48-9c03-4ccd82212058"
      },
      "execution_count": null,
      "outputs": [
        {
          "output_type": "stream",
          "name": "stdout",
          "text": [
            "20\n",
            "15\n",
            "10\n"
          ]
        }
      ]
    },
    {
      "cell_type": "code",
      "source": [
        "x=10\n",
        "def num():\n",
        "    x=20\n",
        "    print(x)\n",
        "    def inner():\n",
        "        global x\n",
        "        x=15\n",
        "        print(x)\n",
        "    inner()\n",
        "num()\n",
        "print(x)"
      ],
      "metadata": {
        "colab": {
          "base_uri": "https://localhost:8080/"
        },
        "id": "fPFm8sYTtL68",
        "outputId": "396b4425-a94c-437f-b006-eb4b9e9d1d47"
      },
      "execution_count": null,
      "outputs": [
        {
          "output_type": "stream",
          "name": "stdout",
          "text": [
            "20\n",
            "15\n",
            "15\n"
          ]
        }
      ]
    },
    {
      "cell_type": "code",
      "source": [
        "x=10\n",
        "def num():\n",
        "    x=20\n",
        "    print(x)\n",
        "    def inner():\n",
        "        nonlocal x\n",
        "        x=15\n",
        "        print(x)\n",
        "    inner()\n",
        "num()\n",
        "print(x)"
      ],
      "metadata": {
        "colab": {
          "base_uri": "https://localhost:8080/"
        },
        "id": "QknsBdbUtUEf",
        "outputId": "dd343816-7321-4e29-f7bb-2685f6446a21"
      },
      "execution_count": null,
      "outputs": [
        {
          "output_type": "stream",
          "name": "stdout",
          "text": [
            "20\n",
            "15\n",
            "10\n"
          ]
        }
      ]
    },
    {
      "cell_type": "code",
      "source": [
        "def fib(n):\n",
        "  if n==1:\n",
        "    return 1\n",
        "  elif n==0:\n",
        "    return 0\n",
        "  else:\n",
        "    result=fib(n-1)+fib(n-2)\n",
        "    return result\n",
        "    print(fib(n))\n",
        "n=int(input())\n",
        "print(fib(n))"
      ],
      "metadata": {
        "colab": {
          "base_uri": "https://localhost:8080/"
        },
        "id": "w8EYfSpx8op_",
        "outputId": "1f31ab01-4215-41d9-cf63-97f31ce62d66"
      },
      "execution_count": null,
      "outputs": [
        {
          "output_type": "stream",
          "name": "stdout",
          "text": [
            "5\n",
            "5\n"
          ]
        }
      ]
    },
    {
      "cell_type": "markdown",
      "source": [
        "**DAY:7**"
      ],
      "metadata": {
        "id": "POOzA0R_rPvV"
      }
    },
    {
      "cell_type": "code",
      "source": [
        "def fib(n,arr):\n",
        "  if n==0 or n==1:\n",
        "    return n\n",
        "  if arr[n]!=-1:\n",
        "    return arr[n]\n",
        "  result=fib(n-1,arr)+fib(n-2,arr)\n",
        "  arr[n]=result\n",
        "  return result\n",
        "n=int(input())\n",
        "arr=[-1]*(n+1)\n",
        "arr[0]=0\n",
        "arr[1]=1\n",
        "print(fib(n,arr))"
      ],
      "metadata": {
        "colab": {
          "base_uri": "https://localhost:8080/"
        },
        "id": "3Gn5ny5frWZx",
        "outputId": "8712fb99-bb24-4e5a-cfb6-63885e25230a"
      },
      "execution_count": null,
      "outputs": [
        {
          "output_type": "stream",
          "name": "stdout",
          "text": [
            "5\n",
            "5\n"
          ]
        }
      ]
    },
    {
      "cell_type": "code",
      "source": [
        "a=int(input())\n",
        "b=int(input())\n",
        "a=a^b\n",
        "b=a^b\n",
        "a=a^b\n",
        "print(f\"a={a} b={b}\")"
      ],
      "metadata": {
        "colab": {
          "base_uri": "https://localhost:8080/"
        },
        "id": "xRv84uuAwv9K",
        "outputId": "c8720962-61bd-4135-ea9a-6754901d6db3"
      },
      "execution_count": null,
      "outputs": [
        {
          "output_type": "stream",
          "name": "stdout",
          "text": [
            "4\n",
            "5\n",
            "a=5 b=4\n"
          ]
        }
      ]
    },
    {
      "cell_type": "code",
      "source": [
        "a=int(input())\n",
        "b=int(input())\n",
        "while a!=0 and b!=0:\n",
        "  if a<b:\n",
        "    b=b%a\n",
        "  else:\n",
        "    a=a%b\n",
        "if a==0:\n",
        "  print(b)\n",
        "else:\n",
        "  print(a)\n"
      ],
      "metadata": {
        "colab": {
          "base_uri": "https://localhost:8080/"
        },
        "id": "GyucAAtc1jcm",
        "outputId": "daf64e14-d91d-42eb-ea2e-230634cedcad"
      },
      "execution_count": null,
      "outputs": [
        {
          "output_type": "stream",
          "name": "stdout",
          "text": [
            "28\n",
            "20\n",
            "4\n"
          ]
        }
      ]
    },
    {
      "cell_type": "code",
      "source": [
        "def gcd(a,b):\n",
        "  if a==0:\n",
        "    return b\n",
        "  elif b==0:\n",
        "    return a\n",
        "  if a<b:\n",
        "    b=b%a\n",
        "    result = gcd(a,b)\n",
        "    return result\n",
        "  else:\n",
        "    a=a%b\n",
        "    result = gcd(a,b)\n",
        "    return result\n",
        "a=int(input())\n",
        "b=int(input())\n",
        "print(gcd(a,b))"
      ],
      "metadata": {
        "id": "O4JNUny75I8K",
        "colab": {
          "base_uri": "https://localhost:8080/"
        },
        "outputId": "59b0195e-90da-4cbd-dac8-80f7a1f10d53"
      },
      "execution_count": null,
      "outputs": [
        {
          "output_type": "stream",
          "name": "stdout",
          "text": [
            "28\n",
            "48\n",
            "4\n"
          ]
        }
      ]
    },
    {
      "cell_type": "code",
      "source": [
        "n= int(input())\n",
        "a=n*3\n",
        "if n==a:\n",
        "  print(True)\n",
        "else:\n",
        "  print(False)"
      ],
      "metadata": {
        "colab": {
          "base_uri": "https://localhost:8080/"
        },
        "id": "BDYEVxr3B-MY",
        "outputId": "bf72dccb-4aed-4636-d748-34760cdfbe90"
      },
      "execution_count": null,
      "outputs": [
        {
          "output_type": "stream",
          "name": "stdout",
          "text": [
            "27\n",
            "False\n"
          ]
        }
      ]
    },
    {
      "cell_type": "markdown",
      "source": [
        "**DAY:8**"
      ],
      "metadata": {
        "id": "GfH0ujyj-Vqw"
      }
    },
    {
      "cell_type": "code",
      "source": [
        "str=\"hello world\"\n",
        "sub=\"llo\"\n",
        "print(str.index(sub))\n",
        "print(str.find(sub))"
      ],
      "metadata": {
        "colab": {
          "base_uri": "https://localhost:8080/"
        },
        "id": "1xBButJn-YqX",
        "outputId": "ce0aade7-23c5-4991-a115-5468a2f1c951"
      },
      "execution_count": null,
      "outputs": [
        {
          "output_type": "stream",
          "name": "stdout",
          "text": [
            "2\n",
            "2\n"
          ]
        }
      ]
    },
    {
      "cell_type": "code",
      "source": [
        "\"\"\"string.isalpha() is used to check whether the characters are only alphabet or not\"\"\"\n",
        "\"\"\"string.isnumeric() is used to check whether the characters are only numbers or not\"\"\"\n",
        "#spaces not accept in both keywords\n",
        "str=\"helloworld\"\n",
        "print(str.isalpha())\n",
        "print(str.isnumeric())"
      ],
      "metadata": {
        "colab": {
          "base_uri": "https://localhost:8080/"
        },
        "id": "pdVZCPLQAJLN",
        "outputId": "d71d1ab0-1004-4275-9991-116459229997"
      },
      "execution_count": null,
      "outputs": [
        {
          "output_type": "stream",
          "name": "stdout",
          "text": [
            "True\n",
            "False\n"
          ]
        }
      ]
    },
    {
      "cell_type": "code",
      "source": [
        "str=\"1234567\"\n",
        "print(str.isalpha())\n",
        "print(str.isnumeric())"
      ],
      "metadata": {
        "colab": {
          "base_uri": "https://localhost:8080/"
        },
        "id": "-6NgU9s3AJHq",
        "outputId": "0f8eee8a-8cdb-4c4d-a0c0-7b726a9fc289"
      },
      "execution_count": null,
      "outputs": [
        {
          "output_type": "stream",
          "name": "stdout",
          "text": [
            "False\n",
            "True\n"
          ]
        }
      ]
    },
    {
      "cell_type": "code",
      "source": [
        "str=\"hello world\"\n",
        "print(str.isalpha())\n",
        "print(str.isnumeric())"
      ],
      "metadata": {
        "colab": {
          "base_uri": "https://localhost:8080/"
        },
        "id": "njiJjo5UBQMs",
        "outputId": "1415507d-369f-407f-c4cc-429f4b18a516"
      },
      "execution_count": null,
      "outputs": [
        {
          "output_type": "stream",
          "name": "stdout",
          "text": [
            "False\n",
            "False\n"
          ]
        }
      ]
    },
    {
      "cell_type": "code",
      "source": [
        "#leet code interview easy question\n",
        "str=\"hello world\"\n",
        "def lengthOfLastWord(str):\n",
        "  s=str.strip()\n",
        "  for i in range(len(str)-1,-1,-1):\n",
        "    if str[i]==\" \":\n",
        "      size=len(str)-1-i\n",
        "      return size\n",
        "  return len(str)\n",
        "s=lengthOfLastWord(str)\n",
        "print(s)"
      ],
      "metadata": {
        "colab": {
          "base_uri": "https://localhost:8080/"
        },
        "id": "9I_ldJYPBQJR",
        "outputId": "ee96c749-9ec3-48e1-d419-b7807a8239ea"
      },
      "execution_count": null,
      "outputs": [
        {
          "output_type": "stream",
          "name": "stdout",
          "text": [
            "5\n"
          ]
        }
      ]
    },
    {
      "cell_type": "code",
      "source": [
        "def strStr(haystack, needle):\n",
        "        return haystack.find(needle)\n",
        "var=strStr(\"sadbutsad\",\"sad\")\n",
        "print(var)"
      ],
      "metadata": {
        "colab": {
          "base_uri": "https://localhost:8080/"
        },
        "id": "RpSfZ67sAJEr",
        "outputId": "7ad5b855-a5a0-4fe3-8a3f-94fd1ed1a5a4"
      },
      "execution_count": null,
      "outputs": [
        {
          "output_type": "stream",
          "name": "stdout",
          "text": [
            "0\n"
          ]
        }
      ]
    },
    {
      "cell_type": "code",
      "source": [
        "def strStr(haystack,needle):\n",
        "  for i in range(len(haystack)):\n",
        "    if haystack[i]==needle[0]:\n",
        "      s2=haystack[i:i+len(needle)]\n",
        "      if s2==needle:\n",
        "        return i\n",
        "  return -1\n",
        "var=strStr(\"sadbutsad\",\"sad\")\n",
        "print(var)"
      ],
      "metadata": {
        "colab": {
          "base_uri": "https://localhost:8080/"
        },
        "id": "mrN68bsCAJBh",
        "outputId": "c2617b35-6094-4d13-c522-8e2bc711b24f"
      },
      "execution_count": null,
      "outputs": [
        {
          "output_type": "stream",
          "name": "stdout",
          "text": [
            "0\n"
          ]
        }
      ]
    },
    {
      "cell_type": "markdown",
      "source": [
        "**DAY:9  16-07-25**"
      ],
      "metadata": {
        "id": "KCBxlnXZV5tt"
      }
    },
    {
      "cell_type": "code",
      "source": [
        "#bruteforce approach for backend to take input of list\n",
        "var = input()\n",
        "var2=var.split(\" \")\n",
        "print(var2)\n",
        "var3=map(int,var2)\n",
        "print(var3)\n",
        "var4= list(var3)\n",
        "print(var4)"
      ],
      "metadata": {
        "id": "_JwGczpoAI-c",
        "colab": {
          "base_uri": "https://localhost:8080/"
        },
        "outputId": "4b08a34c-aa16-4ff9-fbac-b52e24ecd343"
      },
      "execution_count": null,
      "outputs": [
        {
          "output_type": "stream",
          "name": "stdout",
          "text": [
            "1 2 3 4 5\n",
            "['1', '2', '3', '4', '5']\n",
            "<map object at 0x79f2041e8040>\n",
            "[1, 2, 3, 4, 5]\n"
          ]
        }
      ]
    },
    {
      "cell_type": "code",
      "source": [
        "var = list(map(int,input().split()))\n",
        "print(var)"
      ],
      "metadata": {
        "id": "THnt1orjAI7K",
        "colab": {
          "base_uri": "https://localhost:8080/"
        },
        "outputId": "7b871f05-25eb-4ccc-d67c-bca2b489da55"
      },
      "execution_count": null,
      "outputs": [
        {
          "output_type": "stream",
          "name": "stdout",
          "text": [
            "1 2 3 4 5\n",
            "[1, 2, 3, 4, 5]\n"
          ]
        }
      ]
    },
    {
      "cell_type": "code",
      "source": [
        "#brute force approach for print list values into normal values\n",
        "var = list(map(int,input().split()))\n",
        "print(var)\n",
        "for i in range(len(var)):\n",
        "  print(var[i],end=\" \")"
      ],
      "metadata": {
        "id": "m2PKnGvJAI4N",
        "colab": {
          "base_uri": "https://localhost:8080/"
        },
        "outputId": "bae34244-9f58-4718-ad93-b67d08519126"
      },
      "execution_count": null,
      "outputs": [
        {
          "output_type": "stream",
          "name": "stdout",
          "text": [
            "1 2 3 4 5\n",
            "[1, 2, 3, 4, 5]\n",
            "1 2 3 4 5 "
          ]
        }
      ]
    },
    {
      "cell_type": "code",
      "source": [
        "list=[1,2,3]\n",
        "print(list)\n",
        "for i in list:\n",
        "  print(i,end=\" \")"
      ],
      "metadata": {
        "id": "EbKlt-IDAI1E",
        "colab": {
          "base_uri": "https://localhost:8080/"
        },
        "outputId": "2e051f5f-99ca-4ade-bbd2-10740cbf90a7"
      },
      "execution_count": null,
      "outputs": [
        {
          "output_type": "stream",
          "name": "stdout",
          "text": [
            "[1, 2, 3]\n",
            "1 2 3 "
          ]
        }
      ]
    },
    {
      "cell_type": "code",
      "source": [
        "#method to insert element at last of the list\n",
        "list.append(element)\n",
        "#method to delete element at particular index\n",
        "list.pop(index)\n",
        "# method to insert an element at particular index\n",
        "list.insert(index,element)"
      ],
      "metadata": {
        "id": "uB1sfXznsomO"
      },
      "execution_count": null,
      "outputs": []
    },
    {
      "cell_type": "code",
      "source": [
        "list=[1,9,5,4,35,6,3]\n",
        "list.sort()\n",
        "print(list)"
      ],
      "metadata": {
        "colab": {
          "base_uri": "https://localhost:8080/"
        },
        "id": "G5xhsm8mwasJ",
        "outputId": "e4aafcd1-c563-4a26-9998-110811f07dd8"
      },
      "execution_count": null,
      "outputs": [
        {
          "output_type": "stream",
          "name": "stdout",
          "text": [
            "[1, 3, 4, 5, 6, 9, 35]\n"
          ]
        }
      ]
    },
    {
      "cell_type": "code",
      "source": [
        "list=[1,9,5,4,35,6,3]\n",
        "var = sorted(list)\n",
        "print(var)"
      ],
      "metadata": {
        "colab": {
          "base_uri": "https://localhost:8080/"
        },
        "id": "_3C48yvuxBKT",
        "outputId": "3725cd08-4465-4703-e734-96eaa1951bf6"
      },
      "execution_count": null,
      "outputs": [
        {
          "output_type": "stream",
          "name": "stdout",
          "text": [
            "[1, 3, 4, 5, 6, 9, 35]\n"
          ]
        }
      ]
    },
    {
      "cell_type": "code",
      "source": [
        "\n",
        "n= list(map(int,input().split()))\n",
        "\n",
        "multi = list(filter (lambda x: x%3==0,n))\n",
        "\n",
        "if multi:\n",
        "\n",
        "    for i in multi:\n",
        "\n",
        "        print(i,end=\" \")\n",
        "\n",
        "else:\n",
        "\n",
        "    print(\"No multiples of 3 found\")"
      ],
      "metadata": {
        "colab": {
          "base_uri": "https://localhost:8080/"
        },
        "id": "xBrWSfmmWLUu",
        "outputId": "a07e9790-1fad-4e1a-8b9a-13ae1712485b"
      },
      "execution_count": null,
      "outputs": [
        {
          "output_type": "stream",
          "name": "stdout",
          "text": [
            "15 18 22 30 \n",
            "15 18 30 "
          ]
        }
      ]
    },
    {
      "cell_type": "code",
      "source": [
        "#avg using args\n",
        "def avg(*args):\n",
        "    a=sum(args)/len(args)\n",
        "    return a\n",
        "n=list(map(int,input().split()))\n",
        "print"
      ],
      "metadata": {
        "id": "GOqYgJwKaAMz"
      },
      "execution_count": null,
      "outputs": []
    },
    {
      "cell_type": "markdown",
      "source": [
        "**DAY:10 17-10-25**"
      ],
      "metadata": {
        "id": "dqhrwZA1fAyp"
      }
    },
    {
      "cell_type": "code",
      "source": [
        "n=tuple(map(int,input().split()))\n",
        "print(n)"
      ],
      "metadata": {
        "colab": {
          "base_uri": "https://localhost:8080/"
        },
        "id": "8x3isBtde_8F",
        "outputId": "75f3b68a-6583-4f64-c75d-7bef1883e8f1"
      },
      "execution_count": null,
      "outputs": [
        {
          "output_type": "stream",
          "name": "stdout",
          "text": [
            "1 2 3 4 5 6 7\n",
            "(1, 2, 3, 4, 5, 6, 7)\n"
          ]
        }
      ]
    },
    {
      "cell_type": "code",
      "source": [
        "n=tuple(map(int,input().split()))\n",
        "print(n)\n",
        "for i in n:\n",
        "  print(i,end=\" \")"
      ],
      "metadata": {
        "colab": {
          "base_uri": "https://localhost:8080/"
        },
        "id": "WpbNSpZef7xk",
        "outputId": "c0bf81e8-27cc-4137-8bb5-3dd3db1fab0c"
      },
      "execution_count": null,
      "outputs": [
        {
          "output_type": "stream",
          "name": "stdout",
          "text": [
            "1 2 3 4 5 6 7\n",
            "(1, 2, 3, 4, 5, 6, 7)\n",
            "1 2 3 4 5 6 7 "
          ]
        }
      ]
    },
    {
      "cell_type": "code",
      "source": [
        "#two sum\n",
        "def twosum(nums,target):\n",
        "  for i in range(len(nums)):\n",
        "    for j in range(i+1,len(nums)):\n",
        "      if nums[i]+nums[j]==target:\n",
        "        return [i,j]\n",
        "target=int(input(\"Target:\"))\n",
        "nums=list(map(int,input(\"Input have contain exactly one solution:\").split()))\n",
        "n=twosum(nums,target)\n",
        "print(n)"
      ],
      "metadata": {
        "colab": {
          "base_uri": "https://localhost:8080/"
        },
        "id": "Fea2OHoDora-",
        "outputId": "70e6c4a9-ba76-4340-a159-5ec66520e324"
      },
      "execution_count": null,
      "outputs": [
        {
          "output_type": "stream",
          "name": "stdout",
          "text": [
            "Target:10\n",
            "Input have contain exactly one solution:2 5 5 6 4\n",
            "[1, 2]\n"
          ]
        }
      ]
    },
    {
      "cell_type": "markdown",
      "source": [
        "**DAY:10 18-07-25**"
      ],
      "metadata": {
        "id": "GE4eaKmApHeK"
      }
    },
    {
      "cell_type": "code",
      "source": [
        "#New approach for two sum by reducing time complexity N sqr to O(N)\n",
        "def twoSum(nums, target):\n",
        "        dict={}\n",
        "        for i in range(len(nums)):\n",
        "            felem=nums[i]\n",
        "            selem=target-felem\n",
        "            if selem not in dict:\n",
        "                dict[felem]=i\n",
        "            else:\n",
        "                return [dict[selem],i]\n",
        "target=int(input(\"Target:\"))\n",
        "nums=list(map(int,input(\"Input have contain exactly one solution:\").split()))\n",
        "print(twoSum(nums,target))"
      ],
      "metadata": {
        "colab": {
          "base_uri": "https://localhost:8080/"
        },
        "id": "_trFkUlupW5o",
        "outputId": "153aeda9-8a3d-4978-83af-be21b1770d0f"
      },
      "execution_count": null,
      "outputs": [
        {
          "output_type": "stream",
          "name": "stdout",
          "text": [
            "Target:10\n",
            "Input have contain exactly one solution:2 5 5 6 4\n",
            "[1, 2]\n"
          ]
        }
      ]
    },
    {
      "cell_type": "markdown",
      "source": [
        "**DAY:11 21-07-25**"
      ],
      "metadata": {
        "id": "FwAcHjtg_Ke-"
      }
    },
    {
      "cell_type": "code",
      "source": [
        "# intialization\n",
        "# s1=set(object(eg list,tuple,dict))\n",
        "# print(s1)"
      ],
      "metadata": {
        "id": "e4XuNYW8ArlC"
      },
      "execution_count": null,
      "outputs": []
    },
    {
      "cell_type": "code",
      "source": [
        "s=list(map(int,input().split()))\n",
        "s1=set(s)\n",
        "print(s1)"
      ],
      "metadata": {
        "colab": {
          "base_uri": "https://localhost:8080/"
        },
        "id": "KAQHIEwNBT1d",
        "outputId": "786275fd-95ab-492b-83a5-a3d37a68547e"
      },
      "execution_count": null,
      "outputs": [
        {
          "output_type": "stream",
          "name": "stdout",
          "text": [
            "1 2 2 2 3\n",
            "{1, 2, 3}\n"
          ]
        }
      ]
    },
    {
      "cell_type": "code",
      "source": [
        "s4={1,3,4,5,2,2}\n",
        "s5={2,3,4,5,1}\n",
        "s6=s4.intersection(s5)\n",
        "print(s6)"
      ],
      "metadata": {
        "colab": {
          "base_uri": "https://localhost:8080/"
        },
        "id": "5rz2mnAZBYe1",
        "outputId": "61099dea-6a51-4466-bef5-91222a1b4e9f"
      },
      "execution_count": null,
      "outputs": [
        {
          "output_type": "stream",
          "name": "stdout",
          "text": [
            "{1, 2, 3, 4, 5}\n"
          ]
        }
      ]
    },
    {
      "cell_type": "code",
      "source": [
        "leetcode questions\n",
        "1.contais duplicate\n",
        "2.ransom Note\n",
        "3.Happy number"
      ],
      "metadata": {
        "id": "N5gr_lQHBYVw"
      },
      "execution_count": null,
      "outputs": []
    },
    {
      "cell_type": "code",
      "source": [
        "#sir approach for\n",
        "def sumofsquares(n):\n",
        "  sum=0\n",
        "  while n!=0:\n",
        "    temp=n%10\n",
        "    sum+=(temp**2)\n",
        "    n=n//10\n",
        "  return sum\n",
        "def isHappy(n):\n",
        "  s=set()\n",
        "  while n!=1:\n",
        "    n=sumofsquares(n)\n",
        "    if n in s:\n",
        "      return False\n",
        "    else:\n",
        "      s.add(n)\n",
        "  return True\n",
        "n=int(input())\n",
        "print(isHappy(n))"
      ],
      "metadata": {
        "colab": {
          "base_uri": "https://localhost:8080/"
        },
        "id": "q7O5XSWMBYSV",
        "outputId": "0db5e778-9a9f-401b-b0b2-617a0d3c8664"
      },
      "execution_count": null,
      "outputs": [
        {
          "output_type": "stream",
          "name": "stdout",
          "text": [
            "19\n",
            "True\n"
          ]
        }
      ]
    },
    {
      "cell_type": "markdown",
      "source": [
        "**DAY:12 22-07-2025**"
      ],
      "metadata": {
        "id": "C8d7UY3ZE3D6"
      }
    },
    {
      "cell_type": "code",
      "source": [
        "#Max\n",
        "arr=list(map(int,input().split()))\n",
        "max=-1\n",
        "for i in range(len(arr)):\n",
        "  elem=arr[i]\n",
        "  if elem>max:\n",
        "    max=elem\n",
        "print(max)\n"
      ],
      "metadata": {
        "id": "XldVRNMmE-RY",
        "colab": {
          "base_uri": "https://localhost:8080/"
        },
        "outputId": "4ccc56ad-f4d6-4a6b-eefe-e06e60f1ab7a"
      },
      "execution_count": null,
      "outputs": [
        {
          "output_type": "stream",
          "name": "stdout",
          "text": [
            "1 2 3 4 5\n",
            "5\n"
          ]
        }
      ]
    },
    {
      "cell_type": "code",
      "source": [
        "def intersection(nums1, nums2):\n",
        "        res=set()\n",
        "        for i in nums1:\n",
        "            if i in nums2:\n",
        "                res.add(i)\n",
        "        return list(res)\n",
        "nums1=list(map(int,input().split()))\n",
        "nums2=list(map(int,input().split()))\n",
        "print(intersection(nums1,nums2))"
      ],
      "metadata": {
        "colab": {
          "base_uri": "https://localhost:8080/"
        },
        "id": "bBLTfXP1hYOU",
        "outputId": "03962a4f-e2ea-4b31-f8e9-78f8ff2cb6fa"
      },
      "execution_count": null,
      "outputs": [
        {
          "output_type": "stream",
          "name": "stdout",
          "text": [
            "1 2 2 3\n",
            "2 2 1 2\n",
            "[1, 2]\n"
          ]
        }
      ]
    },
    {
      "cell_type": "code",
      "source": [
        "l1=[1,2,3]\n",
        "l2=[]\n",
        "print(l2.append(l1))"
      ],
      "metadata": {
        "colab": {
          "base_uri": "https://localhost:8080/"
        },
        "id": "75wnML6don5y",
        "outputId": "d93df5c1-705a-4bc9-beee-b813cf6c5db2"
      },
      "execution_count": null,
      "outputs": [
        {
          "output_type": "stream",
          "name": "stdout",
          "text": [
            "None\n"
          ]
        }
      ]
    },
    {
      "cell_type": "markdown",
      "source": [
        "DAY:13 23-07-2025"
      ],
      "metadata": {
        "id": "tSolw5OTOd0e"
      }
    },
    {
      "cell_type": "code",
      "source": [
        "l=[]\n",
        "for i in range(1,11):\n",
        "  l.append(i)\n",
        "print(l)"
      ],
      "metadata": {
        "colab": {
          "base_uri": "https://localhost:8080/"
        },
        "id": "l5JGpQ6_Ok0F",
        "outputId": "336afa21-2e25-4c1d-e681-1149e98fcb77"
      },
      "execution_count": null,
      "outputs": [
        {
          "output_type": "stream",
          "name": "stdout",
          "text": [
            "[1, 2, 3, 4, 5, 6, 7, 8, 9, 10]\n"
          ]
        }
      ]
    },
    {
      "cell_type": "code",
      "source": [
        "#syntax of list comprehension\n",
        "#l=[expression for item in range() you can give if condition also]\n",
        "#print(l)"
      ],
      "metadata": {
        "id": "-hD4_SBvPVkd"
      },
      "execution_count": null,
      "outputs": []
    },
    {
      "cell_type": "code",
      "source": [
        "l=[i for i in range(1,11)]\n",
        "print(l)"
      ],
      "metadata": {
        "colab": {
          "base_uri": "https://localhost:8080/"
        },
        "id": "NKTsx9X1Prrx",
        "outputId": "a3e1ce29-ac93-4700-8083-291ae9666c40"
      },
      "execution_count": null,
      "outputs": [
        {
          "output_type": "stream",
          "name": "stdout",
          "text": [
            "[1, 2, 3, 4, 5, 6, 7, 8, 9, 10]\n"
          ]
        }
      ]
    },
    {
      "cell_type": "code",
      "source": [
        "#my code\n",
        "st=int(input(\"Start:\"))\n",
        "end=int(input(\"End:\"))\n",
        "l=[i%2==0 for i in range(st,end+1)]\n",
        "print(l)"
      ],
      "metadata": {
        "colab": {
          "base_uri": "https://localhost:8080/"
        },
        "id": "GudBKnHbQg3-",
        "outputId": "84b32f2f-eed4-42cf-9eff-02d15fe3609a"
      },
      "execution_count": null,
      "outputs": [
        {
          "output_type": "stream",
          "name": "stdout",
          "text": [
            "Start:1\n",
            "End:100\n",
            "[False, True, False, True, False, True, False, True, False, True, False, True, False, True, False, True, False, True, False, True, False, True, False, True, False, True, False, True, False, True, False, True, False, True, False, True, False, True, False, True, False, True, False, True, False, True, False, True, False, True, False, True, False, True, False, True, False, True, False, True, False, True, False, True, False, True, False, True, False, True, False, True, False, True, False, True, False, True, False, True, False, True, False, True, False, True, False, True, False, True, False, True, False, True, False, True, False, True, False, True]\n"
          ]
        }
      ]
    },
    {
      "cell_type": "code",
      "source": [
        "#sir approch\n",
        "st=int(input(\"Start:\"))\n",
        "end=int(input(\"End:\"))\n",
        "l=[i for i in range(st,end+1) if i%2==0]\n",
        "print(l)"
      ],
      "metadata": {
        "colab": {
          "base_uri": "https://localhost:8080/"
        },
        "id": "S83Vh8jsRJe6",
        "outputId": "70e64c36-925b-4ca9-b260-2a0fd6004fca"
      },
      "execution_count": null,
      "outputs": [
        {
          "output_type": "stream",
          "name": "stdout",
          "text": [
            "Start:1\n",
            "End:100\n",
            "[2, 4, 6, 8, 10, 12, 14, 16, 18, 20, 22, 24, 26, 28, 30, 32, 34, 36, 38, 40, 42, 44, 46, 48, 50, 52, 54, 56, 58, 60, 62, 64, 66, 68, 70, 72, 74, 76, 78, 80, 82, 84, 86, 88, 90, 92, 94, 96, 98, 100]\n"
          ]
        }
      ]
    },
    {
      "cell_type": "code",
      "source": [
        "#chat my approach\n",
        "n=int(input())\n",
        "l=[i for i in range(2,n) if all(i%j!=0 for j in range(2,i))]\n",
        "print(l)"
      ],
      "metadata": {
        "colab": {
          "base_uri": "https://localhost:8080/"
        },
        "id": "quMDwVuzRqW8",
        "outputId": "e583a82f-9182-41f4-fd47-23727d1564a6"
      },
      "execution_count": null,
      "outputs": [
        {
          "output_type": "stream",
          "name": "stdout",
          "text": [
            "100\n",
            "[2, 3, 5, 7, 11, 13, 17, 19, 23, 29, 31, 37, 41, 43, 47, 53, 59, 61, 67, 71, 73, 79, 83, 89, 97]\n"
          ]
        }
      ]
    },
    {
      "cell_type": "code",
      "source": [
        "#sir approach\n",
        "def isPrime(n):\n",
        "  for i in range(2,n):\n",
        "    if n%i==0:\n",
        "      return False\n",
        "  return True\n",
        "n=int(input())\n",
        "l=[i for i in range(2,n+1) if isPrime(i)]\n",
        "print(l)"
      ],
      "metadata": {
        "colab": {
          "base_uri": "https://localhost:8080/"
        },
        "id": "P1e8P17NVLqH",
        "outputId": "7955abc0-c723-4cba-c81e-577ad4cffc27"
      },
      "execution_count": null,
      "outputs": [
        {
          "output_type": "stream",
          "name": "stdout",
          "text": [
            "100\n",
            "[2, 3, 5, 7, 11, 13, 17, 19, 23, 29, 31, 37, 41, 43, 47, 53, 59, 61, 67, 71, 73, 79, 83, 89, 97]\n"
          ]
        }
      ]
    },
    {
      "cell_type": "markdown",
      "source": [],
      "metadata": {
        "id": "ADNke_LSPrBb"
      }
    },
    {
      "cell_type": "code",
      "source": [
        "#squrae numbers in the given range\n",
        "n=int(input())\n",
        "l=[i**2 for i in range(1,n+1)]\n",
        "print(l)"
      ],
      "metadata": {
        "colab": {
          "base_uri": "https://localhost:8080/"
        },
        "id": "0lItygu3WoGq",
        "outputId": "53c94342-7415-4ad1-e864-fb1783323ed2"
      },
      "execution_count": null,
      "outputs": [
        {
          "output_type": "stream",
          "name": "stdout",
          "text": [
            "50\n",
            "[1, 4, 9, 16, 25, 36, 49, 64, 81, 100, 121, 144, 169, 196, 225, 256, 289, 324, 361, 400, 441, 484, 529, 576, 625, 676, 729, 784, 841, 900, 961, 1024, 1089, 1156, 1225, 1296, 1369, 1444, 1521, 1600, 1681, 1764, 1849, 1936, 2025, 2116, 2209, 2304, 2401, 2500]\n"
          ]
        }
      ]
    },
    {
      "cell_type": "code",
      "source": [
        "#2nd approch squrae numbers in the given range\n",
        "n=int(input())\n",
        "l=[i*i for i in range(1,n+1)]\n",
        "print(l)"
      ],
      "metadata": {
        "id": "bv2AMidQXjf6"
      },
      "execution_count": null,
      "outputs": []
    },
    {
      "cell_type": "code",
      "source": [
        "#syntax of set comprehension\n",
        "n=int(input())\n",
        "l={i*i for i in range(1,n+1)}\n",
        "print(l)"
      ],
      "metadata": {
        "colab": {
          "base_uri": "https://localhost:8080/"
        },
        "id": "MCOVDklgXrhu",
        "outputId": "139fcf6c-8bf2-4270-8c95-fac5dd6770d8"
      },
      "execution_count": null,
      "outputs": [
        {
          "output_type": "stream",
          "name": "stdout",
          "text": [
            "50\n",
            "{256, 1, 1024, 2304, 4, 900, 1156, 9, 16, 144, 400, 529, 784, 1296, 1681, 1936, 25, 289, 2209, 36, 676, 1444, 169, 49, 441, 1849, 64, 576, 961, 1089, 196, 324, 1600, 2116, 2500, 841, 1225, 81, 729, 1369, 225, 2401, 100, 484, 1764, 361, 2025, 625, 1521, 121}\n"
          ]
        }
      ]
    },
    {
      "cell_type": "markdown",
      "source": [
        "# MATRIX"
      ],
      "metadata": {
        "id": "Dv0Og72GeJWD"
      }
    },
    {
      "cell_type": "code",
      "source": [
        "matrix=[[1,2,3],\n",
        "        [4,5,6],\n",
        "        [7,8,9]]\n",
        "print(matrix[1][2])"
      ],
      "metadata": {
        "colab": {
          "base_uri": "https://localhost:8080/"
        },
        "id": "JS0-PQLcX1lq",
        "outputId": "bb6a95b0-7a9d-40c3-ee29-6b72719984ca"
      },
      "execution_count": null,
      "outputs": [
        {
          "output_type": "stream",
          "name": "stdout",
          "text": [
            "6\n"
          ]
        }
      ]
    },
    {
      "cell_type": "code",
      "source": [
        "#row print\n",
        "matrix=[[1,2,3],\n",
        "        [4,5,6],\n",
        "        [7,8,9]]\n",
        "for i in range(len(matrix[0])):\n",
        "  print(matrix[0][i],end=\" \")"
      ],
      "metadata": {
        "colab": {
          "base_uri": "https://localhost:8080/"
        },
        "id": "XCzgDGtdc4tr",
        "outputId": "894abb02-9a89-44c4-a332-e22338d100e8"
      },
      "execution_count": null,
      "outputs": [
        {
          "output_type": "stream",
          "name": "stdout",
          "text": [
            "1 2 3 "
          ]
        }
      ]
    },
    {
      "cell_type": "code",
      "source": [
        "#column print\n",
        "matrix=[[1,2,3],\n",
        "        [4,5,6],\n",
        "        [7,8,9]]\n",
        "for i in range(len(matrix[0])):\n",
        "  print(matrix[i][0],end=\" \")"
      ],
      "metadata": {
        "colab": {
          "base_uri": "https://localhost:8080/"
        },
        "id": "lJmt2R08dRdr",
        "outputId": "d2f45b26-1caa-457e-9a34-1152ae9254b2"
      },
      "execution_count": null,
      "outputs": [
        {
          "output_type": "stream",
          "name": "stdout",
          "text": [
            "1 4 7 "
          ]
        }
      ]
    },
    {
      "cell_type": "code",
      "source": [
        "#Total Access\n",
        "matrix=[[1,2,3],\n",
        "        [4,5,6],\n",
        "        [7,8,9]]\n",
        "for i in range(len(matrix)):\n",
        "  print(matrix[i],end=\" \")"
      ],
      "metadata": {
        "colab": {
          "base_uri": "https://localhost:8080/"
        },
        "id": "p4y1YNB-dzvp",
        "outputId": "fb98aa8c-0303-46c7-c144-7cb1a0fcbd05"
      },
      "execution_count": null,
      "outputs": [
        {
          "output_type": "stream",
          "name": "stdout",
          "text": [
            "[1, 2, 3] [4, 5, 6] [7, 8, 9] "
          ]
        }
      ]
    },
    {
      "cell_type": "code",
      "source": [
        "#Matrix\n",
        "matrix=[[1,2,3],\n",
        "        [4,5,6],\n",
        "        [7,8,9]]\n",
        "for i in range(len(matrix)):\n",
        "  for j in range(len(matrix[i])):\n",
        "    print(matrix[i][j],end=\" \")\n",
        "  print()"
      ],
      "metadata": {
        "colab": {
          "base_uri": "https://localhost:8080/"
        },
        "id": "nKAVP32-fm7l",
        "outputId": "2d47480a-b6c0-4efd-e7f3-4e2901bd7f83"
      },
      "execution_count": null,
      "outputs": [
        {
          "output_type": "stream",
          "name": "stdout",
          "text": [
            "1 2 3 \n",
            "4 5 6 \n",
            "7 8 9 \n"
          ]
        }
      ]
    },
    {
      "cell_type": "code",
      "source": [
        "#Total Access My Approch\n",
        "matrix=[[1,2,3],\n",
        "        [4,5,6],\n",
        "        [7,8,9]]\n",
        "for i in range(len(matrix)):\n",
        "  print(*matrix[i])"
      ],
      "metadata": {
        "colab": {
          "base_uri": "https://localhost:8080/"
        },
        "id": "WrWhxStAgP5M",
        "outputId": "5b95033c-afc4-4a9f-ffd2-6c8404fb3043"
      },
      "execution_count": null,
      "outputs": [
        {
          "output_type": "stream",
          "name": "stdout",
          "text": [
            "1 2 3\n",
            "4 5 6\n",
            "7 8 9\n"
          ]
        }
      ]
    },
    {
      "cell_type": "code",
      "source": [
        "n=int(input())\n",
        "m=[]\n",
        "for i in range(n):\n",
        "  l=list(map(int,input().split()))\n",
        "  m.append(l)\n",
        "print(m)"
      ],
      "metadata": {
        "colab": {
          "base_uri": "https://localhost:8080/"
        },
        "id": "jKpiNVXYhdFl",
        "outputId": "e18a9f6f-a9a3-47df-9190-2c9385629f99"
      },
      "execution_count": null,
      "outputs": [
        {
          "output_type": "stream",
          "name": "stdout",
          "text": [
            "3\n",
            "1 2 3\n",
            "4 5 6\n",
            "7 8 9\n",
            "[[1, 2, 3], [4, 5, 6], [7, 8, 9]]\n"
          ]
        }
      ]
    },
    {
      "cell_type": "code",
      "source": [
        "n=int(input())\n",
        "m=[list(map(int,input().split()))for i in range(n)]\n",
        "print(m)"
      ],
      "metadata": {
        "colab": {
          "base_uri": "https://localhost:8080/"
        },
        "id": "UlDgd42mi5hU",
        "outputId": "f5f75a39-1842-4239-b8f7-04aebacdfd01"
      },
      "execution_count": null,
      "outputs": [
        {
          "output_type": "stream",
          "name": "stdout",
          "text": [
            "3\n",
            "1 2 3\n",
            "4 5 6\n",
            "7 8 9\n",
            "[[1, 2, 3], [4, 5, 6], [7, 8, 9]]\n"
          ]
        }
      ]
    },
    {
      "cell_type": "code",
      "source": [
        "m=[[1,2,3],[4,5,6],[7,8,9]]\n",
        "l=[]\n",
        "for i in matrix:\n",
        "  for j in i:\n",
        "    l.append(j)\n",
        "print(l)\n"
      ],
      "metadata": {
        "colab": {
          "base_uri": "https://localhost:8080/"
        },
        "id": "Hctpb9TUoLze",
        "outputId": "48f218d3-8baf-4830-8cde-3f43c32f0011"
      },
      "execution_count": null,
      "outputs": [
        {
          "output_type": "stream",
          "name": "stdout",
          "text": [
            "[1, 2, 3, 4, 5, 6, 7, 8, 9]\n"
          ]
        }
      ]
    },
    {
      "cell_type": "code",
      "source": [
        "m=[[1,2,3],[4,5,6],[7,8,9]]\n",
        "key=int(input())\n",
        "flag=False\n",
        "for i in range(len(m)):\n",
        "  for j in range(len(m[i])):\n",
        "    elem=m[i][j]\n",
        "    if elem==key:\n",
        "      flag=True\n",
        "if flag==True:\n",
        "  print(\"Key found\")\n",
        "else:\n",
        "  print(\"Key not found\")\n"
      ],
      "metadata": {
        "colab": {
          "base_uri": "https://localhost:8080/"
        },
        "id": "G5vidb4srjlj",
        "outputId": "0d6126e2-19c5-458e-e5c6-e7ca1bebc938"
      },
      "execution_count": null,
      "outputs": [
        {
          "output_type": "stream",
          "name": "stdout",
          "text": [
            "7\n",
            "Key found\n"
          ]
        }
      ]
    },
    {
      "cell_type": "code",
      "source": [
        "#DEFAULT MATRIX 0\n",
        "r=int(input())\n",
        "c=int(input())\n",
        "m=[[0 for j in range(c)]for i in range(r)]\n",
        "print(m)"
      ],
      "metadata": {
        "colab": {
          "base_uri": "https://localhost:8080/"
        },
        "id": "0H3oQ0Tfvfdt",
        "outputId": "bb0a00dc-4110-4b57-a0ea-0b162f556486"
      },
      "execution_count": null,
      "outputs": [
        {
          "output_type": "stream",
          "name": "stdout",
          "text": [
            "6\n",
            "4\n",
            "[[0, 0, 0, 0], [0, 0, 0, 0], [0, 0, 0, 0], [0, 0, 0, 0], [0, 0, 0, 0], [0, 0, 0, 0]]\n"
          ]
        }
      ]
    },
    {
      "cell_type": "markdown",
      "source": [
        "**DAY:14 25-07-25**"
      ],
      "metadata": {
        "id": "FSvlU1g7kj-n"
      }
    },
    {
      "cell_type": "code",
      "source": [
        "#dict comprehension\n",
        "dict={i:i*i for i in range(11)}\n",
        "print(dict)"
      ],
      "metadata": {
        "colab": {
          "base_uri": "https://localhost:8080/"
        },
        "id": "ON1z7EzWktPd",
        "outputId": "3695fbc1-002f-4b77-84ba-3aba8916c815"
      },
      "execution_count": null,
      "outputs": [
        {
          "output_type": "stream",
          "name": "stdout",
          "text": [
            "{0: 0, 1: 1, 2: 4, 3: 9, 4: 16, 5: 25, 6: 36, 7: 49, 8: 64, 9: 81, 10: 100}\n"
          ]
        }
      ]
    },
    {
      "cell_type": "code",
      "source": [
        "l=[\"Data\",\"Python\",\"AI\",\"ML\",\"HTML\"]\n",
        "dict={i:len(i) for i in l}\n",
        "print(dict)"
      ],
      "metadata": {
        "colab": {
          "base_uri": "https://localhost:8080/"
        },
        "id": "tB7w0rVclIPf",
        "outputId": "14349e14-77d5-4a4a-fbda-96e04e83219e"
      },
      "execution_count": null,
      "outputs": [
        {
          "output_type": "stream",
          "name": "stdout",
          "text": [
            "{'Data': 4, 'Python': 6, 'AI': 2, 'ML': 2, 'HTML': 4}\n"
          ]
        }
      ]
    },
    {
      "cell_type": "code",
      "source": [
        "l=[\"Data\",\"Python\",\"AI\",\"ML\",\"HTML\"]\n",
        "dict={i:len(i) for i in l if len(i)>=4}\n",
        "print(dict)"
      ],
      "metadata": {
        "colab": {
          "base_uri": "https://localhost:8080/"
        },
        "id": "SyHQtsymokwd",
        "outputId": "09160663-e22b-47fb-9ade-c1438a117ac5"
      },
      "execution_count": null,
      "outputs": [
        {
          "output_type": "stream",
          "name": "stdout",
          "text": [
            "{'Data': 4, 'Python': 6, 'HTML': 4}\n"
          ]
        }
      ]
    },
    {
      "cell_type": "code",
      "source": [
        "def count(str,ch):\n",
        "  c=0\n",
        "  for i in str:\n",
        "    if i==ch:\n",
        "      c+=1\n",
        "  return c\n",
        "str=input(\"Enter the word:\")\n",
        "s=set(str)\n",
        "dict={ch:count(str,ch) for ch in s}\n",
        "print(dict)\n"
      ],
      "metadata": {
        "colab": {
          "base_uri": "https://localhost:8080/"
        },
        "id": "DsILETBarT2x",
        "outputId": "7034f162-9a40-4e33-c7a3-3fa31b03e91b"
      },
      "execution_count": null,
      "outputs": [
        {
          "output_type": "stream",
          "name": "stdout",
          "text": [
            "Enter the word:mallesh\n",
            "{'a': 1, 'm': 1, 'h': 1, 'l': 2, 's': 1, 'e': 1}\n"
          ]
        }
      ]
    },
    {
      "cell_type": "code",
      "source": [
        "dict={\"python\":65,\"ML\":50,\"c++\":77}\n",
        "d={name:b for name,b in dict.items() if b>=60}\n",
        "print(d)"
      ],
      "metadata": {
        "colab": {
          "base_uri": "https://localhost:8080/"
        },
        "collapsed": true,
        "id": "8bq9zJt4t3W5",
        "outputId": "43765448-c89f-44fc-facb-19306f1f3a83"
      },
      "execution_count": null,
      "outputs": [
        {
          "output_type": "stream",
          "name": "stdout",
          "text": [
            "{'python': 65, 'c++': 77}\n"
          ]
        }
      ]
    },
    {
      "cell_type": "code",
      "source": [
        "list=['hi','data','AI']\n",
        "d={words:index*len(words) for index,words in enumerate(list)}\n",
        "print(d)"
      ],
      "metadata": {
        "colab": {
          "base_uri": "https://localhost:8080/"
        },
        "id": "ux4U8OsavJFB",
        "outputId": "3830711b-ee4c-4dbd-ba08-b89dedb778ba"
      },
      "execution_count": null,
      "outputs": [
        {
          "output_type": "stream",
          "name": "stdout",
          "text": [
            "{'hi': 0, 'data': 4, 'AI': 4}\n"
          ]
        }
      ]
    },
    {
      "cell_type": "code",
      "source": [
        "d={i for i in range(5) if i%2}\n",
        "print(d)"
      ],
      "metadata": {
        "colab": {
          "base_uri": "https://localhost:8080/"
        },
        "id": "jRH_t6QL7JJ9",
        "outputId": "e11e4929-d64e-49e0-e963-fc241096d9e4"
      },
      "execution_count": null,
      "outputs": [
        {
          "output_type": "stream",
          "name": "stdout",
          "text": [
            "{1, 3}\n"
          ]
        }
      ]
    },
    {
      "cell_type": "code",
      "source": [
        "#chat gpt approach permutations\n",
        "def fun(res,remain):\n",
        "  if len(remain)==0:\n",
        "    print(res)\n",
        "    return\n",
        "  for i in range(len(remain)):\n",
        "      ch=remain[i]\n",
        "      upRes=res+ch\n",
        "      upStr=remain[:i]+remain[i+1:]\n",
        "      fun(upRes,upStr)\n",
        "input_str=input(\"Enter the string:\")\n",
        "fun(\"\",input_str)"
      ],
      "metadata": {
        "colab": {
          "base_uri": "https://localhost:8080/"
        },
        "collapsed": true,
        "id": "eJSnh9QnGweo",
        "outputId": "049c6b01-0283-49c0-a541-cc85bf13dd6c"
      },
      "execution_count": null,
      "outputs": [
        {
          "output_type": "stream",
          "name": "stdout",
          "text": [
            "Enter the string:abc\n",
            "abc\n",
            "acb\n",
            "bac\n",
            "bca\n",
            "cab\n",
            "cba\n"
          ]
        }
      ]
    },
    {
      "cell_type": "code",
      "source": [
        "#Permutations with given string sir approach i tried\n",
        "def fun(res, str):\n",
        "    if len(str) == 0:\n",
        "        print(res)\n",
        "        return\n",
        "    for i in range(len(str)):\n",
        "        ch = str[i]\n",
        "        upRes = res + ch\n",
        "        upStr = str[:i] + str[i+1:]\n",
        "        fun(upRes, upStr)\n",
        "str = input(\"Enter the string: \")\n",
        "res=\"\"\n",
        "fun(res,str)\n",
        "#Time complexity (len(str)^len(str)-1)"
      ],
      "metadata": {
        "colab": {
          "base_uri": "https://localhost:8080/"
        },
        "id": "B4EUlgeucU34",
        "outputId": "957e16f2-8977-46c1-9d30-a9bab379f39a"
      },
      "execution_count": null,
      "outputs": [
        {
          "output_type": "stream",
          "name": "stdout",
          "text": [
            "Enter the string: abc\n",
            "abc\n",
            "acb\n",
            "bac\n",
            "bca\n",
            "cab\n",
            "cba\n"
          ]
        }
      ]
    },
    {
      "cell_type": "markdown",
      "source": [
        "**25-07-25 TEST ANSWERS**"
      ],
      "metadata": {
        "id": "zvrjMTIRHfvy"
      }
    },
    {
      "cell_type": "code",
      "source": [
        "#CHARCTER ASCII\n",
        "\n",
        "s = input()\n",
        "d = {ch: ord(ch) for ch in s}\n",
        "result = \"{\" + \", \".join(f\"{k}={v}\" for k, v in d.items()) + \"}\"\n",
        "print(result)\n"
      ],
      "metadata": {
        "id": "8wIser1VFcbu"
      },
      "execution_count": null,
      "outputs": []
    },
    {
      "cell_type": "code",
      "source": [
        "#FREQUENCY COUNT\n",
        "s = input()\n",
        "d = {}\n",
        "for ch in s:\n",
        "  d[ch]=d.get(ch,0)+1\n",
        "result = \"{\" + \", \".join(f\"{k}={v}\" for k, v in d.items()) + \"}\"\n",
        "print(result)\n"
      ],
      "metadata": {
        "id": "ErTW90wcFfvD",
        "colab": {
          "base_uri": "https://localhost:8080/"
        },
        "outputId": "6ed7274c-6ec4-458f-8e6c-5c3399c8660c"
      },
      "execution_count": null,
      "outputs": [
        {
          "output_type": "stream",
          "name": "stdout",
          "text": [
            "hello\n",
            "{h=1, e=1, l=2, o=1}\n"
          ]
        }
      ]
    },
    {
      "cell_type": "code",
      "source": [
        "#EVEN LENGHT WORDS\n",
        "n = int(input())\n",
        "l = input().split()\n",
        "d = {}\n",
        "\n",
        "for i in l:\n",
        "    if len(i) % 2 == 0:\n",
        "        d[i] = len(i)\n",
        "\n",
        "result = \"{\" + \", \".join(f\"{k}={v}\" for k, v in d.items()) + \"}\"\n",
        "print(result)\n"
      ],
      "metadata": {
        "id": "kkXlzS7uFt9n"
      },
      "execution_count": null,
      "outputs": []
    },
    {
      "cell_type": "code",
      "source": [
        "#PERFECT NUMBER\n",
        "n = int(input(\"Enter a number: \"))\n",
        "sum_of_divisors = sum(i for i in range(1, n) if n % i == 0)\n",
        "\n",
        "if sum_of_divisors == n:\n",
        "    print(f\"{n} is a Perfect Number\")\n",
        "else:\n",
        "    print(f\"{n} is Not a Perfect Number\")\n"
      ],
      "metadata": {
        "id": "KJ2s88H2Ft0I"
      },
      "execution_count": null,
      "outputs": []
    },
    {
      "cell_type": "code",
      "source": [
        "#MODULUS MAPPING\n",
        "n = int(input())\n",
        "nums = list(map(int, input().split()))\n",
        "\n",
        "d = {i: i % 3 for i in nums}\n",
        "result = \"{\" + \", \".join(f\"{k}={v}\" for k, v in d.items()) + \"}\"\n",
        "print(result)\n"
      ],
      "metadata": {
        "id": "s89V5hVHH9zq"
      },
      "execution_count": null,
      "outputs": []
    },
    {
      "cell_type": "code",
      "source": [
        "#SQUARES DICTONARY\n",
        "n=int(input())\n",
        "d={i:i**2 for i in range(1,n+1)}\n",
        "f=\", \".join([f\"{k}={v}\" for k,v in d.items()])\n",
        "print(\"{\"+ f +\"}\")"
      ],
      "metadata": {
        "id": "DIcjpgjLIDBc"
      },
      "execution_count": null,
      "outputs": []
    },
    {
      "cell_type": "code",
      "source": [
        "#UPPERCASE MPPING\n",
        "n = int(input())\n",
        "words = [input() for _ in range(n)]\n",
        "\n",
        "d = {word: word.upper() for word in words}\n",
        "m = \"{\" + \", \".join(f\"{k}={v}\" for k, v in d.items()) + \"}\"\n",
        "print(m)\n"
      ],
      "metadata": {
        "id": "XSBm7guJMFn4"
      },
      "execution_count": null,
      "outputs": []
    },
    {
      "cell_type": "markdown",
      "source": [
        "**DAY:15 28-07-25**"
      ],
      "metadata": {
        "id": "fJi1KhmOi9iE"
      }
    },
    {
      "cell_type": "markdown",
      "source": [
        "CODEWARS"
      ],
      "metadata": {
        "id": "ASgBANb8jTbb"
      }
    },
    {
      "cell_type": "code",
      "source": [
        "n=int(input())\n",
        "s=str(n)\n",
        "rev=s[::-1]\n",
        "l=[]\n",
        "for i in rev:\n",
        "    l.append(int(i))\n",
        "print(l)"
      ],
      "metadata": {
        "colab": {
          "base_uri": "https://localhost:8080/"
        },
        "id": "UWy7jfS4jRxe",
        "outputId": "9e119b8e-527f-4a74-d6f6-d5e240c3edd0"
      },
      "execution_count": null,
      "outputs": [
        {
          "output_type": "stream",
          "name": "stdout",
          "text": [
            "1234567\n",
            "[7, 6, 5, 4, 3, 2, 1]\n"
          ]
        }
      ]
    },
    {
      "cell_type": "markdown",
      "source": [
        "**FILE HANDLING**"
      ],
      "metadata": {
        "id": "dgRNvLs5-3I9"
      }
    },
    {
      "cell_type": "code",
      "source": [
        "# syntax to point a file\n",
        "# fn=open(\"filename\",\"mode\")\n",
        "# Types\n",
        "# 1.ACCESSING A FILE\n",
        "# 2.MODES\n",
        "#   ->READING MODE ('r') ('r+')\n",
        "#   ->WRITING MODE ('w') ('w+')\n",
        "#   ->APPEND MODE  ('a') ('a+')\n",
        "\n",
        "# modes\n",
        "# 1.read mode\n",
        "# it reads the data inside the file only\n",
        "# if file not exist it returns file\n",
        "# notfound error\n",
        "\n",
        "# 2.write mode\n",
        "# it writes the data inside the file by\n",
        "# erasing all the content inside the file\n",
        "# if file not exists it creates new file\n",
        "\n",
        "# methods\n",
        "# 1.obj.tell() method\n",
        "# it returns the current\n",
        "#  index of the cursor/pointer\n",
        "# 2.obj.seek(index)\n",
        "# it is used to locate pointer at\n",
        "#  specific index"
      ],
      "metadata": {
        "id": "4CqWoHX8_AKW"
      },
      "execution_count": null,
      "outputs": []
    },
    {
      "cell_type": "markdown",
      "source": [
        "**DAY: 16 30-07-2025**"
      ],
      "metadata": {
        "id": "Rf9pTuzVZi-9"
      }
    },
    {
      "cell_type": "code",
      "source": [
        "k=int(input(\"Enter subsequence range:\"))\n",
        "arr=list(map(int,input().split()))\n",
        "n=len(arr)\n",
        "maxsum=0\n",
        "for i in range(n-k):\n",
        "  sum=0\n",
        "  for j in range(i,i+k):\n",
        "    sum+=arr[j]\n",
        "  maxsum=max(sum,maxsum)\n",
        "print(\"max of sub array:\",maxsum)"
      ],
      "metadata": {
        "id": "gkilJ74lTxWM",
        "colab": {
          "base_uri": "https://localhost:8080/"
        },
        "outputId": "8dee4368-2209-4651-e594-d909ea9540c3"
      },
      "execution_count": 2,
      "outputs": [
        {
          "output_type": "stream",
          "name": "stdout",
          "text": [
            "Enter subsequence range:3\n",
            "5 1 3 4 5 6\n",
            "12\n"
          ]
        }
      ]
    }
  ]
}